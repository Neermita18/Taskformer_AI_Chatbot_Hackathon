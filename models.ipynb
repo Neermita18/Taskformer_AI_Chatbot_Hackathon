{
 "cells": [
  {
   "cell_type": "code",
   "execution_count": 1,
   "metadata": {},
   "outputs": [
    {
     "name": "stderr",
     "output_type": "stream",
     "text": [
      "c:\\Users\\91982\\Desktop\\Taskformer\\venv\\Lib\\site-packages\\tqdm\\auto.py:21: TqdmWarning: IProgress not found. Please update jupyter and ipywidgets. See https://ipywidgets.readthedocs.io/en/stable/user_install.html\n",
      "  from .autonotebook import tqdm as notebook_tqdm\n"
     ]
    }
   ],
   "source": [
    "from datasets import load_dataset\n",
    "from PyPDF2 import PdfReader\n",
    "import requests\n",
    "from bs4 import BeautifulSoup"
   ]
  },
  {
   "cell_type": "code",
   "execution_count": 2,
   "metadata": {},
   "outputs": [
    {
     "name": "stderr",
     "output_type": "stream",
     "text": [
      "Downloading readme: 100%|██████████| 542/542 [00:00<?, ?B/s] \n",
      "Downloading data: 100%|██████████| 70.5M/70.5M [00:18<00:00, 3.75MB/s]\n",
      "Generating train split: 100%|██████████| 112165/112165 [00:01<00:00, 75498.26 examples/s]\n"
     ]
    }
   ],
   "source": [
    "ds = load_dataset(\"lavita/ChatDoctor-HealthCareMagic-100k\", split=\"train\")"
   ]
  },
  {
   "cell_type": "code",
   "execution_count": 19,
   "metadata": {},
   "outputs": [
    {
     "data": {
      "text/plain": [
       "{'instruction': \"If you are a doctor, please answer the medical questions based on the patient's description.\",\n",
       " 'input': 'I woke up this morning feeling the whole room is spinning when i was sitting down. I went to the bathroom walking unsteadily, as i tried to focus i feel nauseous. I try to vomit but it wont come out.. After taking panadol and sleep for few hours, i still feel the same.. By the way, if i lay down or sit down, my head do not spin, only when i want to move around then i feel the whole world is spinning.. And it is normal stomach discomfort at the same time? Earlier after i relieved myself, the spinning lessen so i am not sure whether its connected or coincidences.. Thank you doc!',\n",
       " 'output': 'Hi, Thank you for posting your query. The most likely cause for your symptoms is benign paroxysmal positional vertigo (BPPV), a type of peripheral vertigo. In this condition, the most common symptom is dizziness or giddiness, which is made worse with movements. Accompanying nausea and vomiting are common. The condition is due to problem in the ear, and improves in a few days on own. Betahistine tablets would help relieve your symptoms. Doing vestibular rehabilitation or adaptation exercises would prevent the recurrence of these symptoms. An ENT evaluation would also help. I hope it helps. Best wishes, Chat Doctor.'}"
      ]
     },
     "execution_count": 19,
     "metadata": {},
     "output_type": "execute_result"
    }
   ],
   "source": [
    "ds[0]"
   ]
  },
  {
   "cell_type": "code",
   "execution_count": 20,
   "metadata": {},
   "outputs": [],
   "source": [
    "dataset= [text['input']+\" \"+ text['output'] for text in ds]"
   ]
  },
  {
   "cell_type": "code",
   "execution_count": 4,
   "metadata": {},
   "outputs": [],
   "source": [
    "file_name= \"dermet1.pdf\""
   ]
  },
  {
   "cell_type": "code",
   "execution_count": 28,
   "metadata": {},
   "outputs": [],
   "source": [
    "import os\n",
    "import fitz\n",
    "from PIL import Image\n",
    "from io import BytesIO"
   ]
  },
  {
   "cell_type": "code",
   "execution_count": 21,
   "metadata": {},
   "outputs": [],
   "source": []
  },
  {
   "cell_type": "code",
   "execution_count": 42,
   "metadata": {},
   "outputs": [],
   "source": [
    "def extract_images_and_descriptions(pdf_path, image_dir):\n",
    "    os.makedirs(image_dir, exist_ok=True)\n",
    "    document = fitz.open(pdf_path)\n",
    "    image_paths = []\n",
    "\n",
    "    for page_num in range(len(document)):\n",
    "        page = document[page_num]\n",
    "        images = page.get_images(full=True)\n",
    "\n",
    "        for img_index, img in enumerate(images):\n",
    "            xref = img[0]\n",
    "            base_image = document.extract_image(xref)\n",
    "            image_bytes = base_image[\"image\"]\n",
    "            img_ext = base_image[\"ext\"]\n",
    "            img_path = os.path.join(image_dir, f\"image_{page_num+1}_{img_index+1}.{img_ext}\")\n",
    "\n",
    "            with open(img_path, \"wb\") as img_file:\n",
    "                img_file.write(image_bytes)\n",
    "\n",
    "            image_paths.append(img_path)\n",
    "\n",
    "\n",
    "\n",
    "pdf_path = r\"C:\\Users\\91982\\Desktop\\Taskformer\\data\\dermet1.pdf\"\n",
    "image_dir =  r\"C:\\Users\\91982\\Desktop\\Taskformer\\images\"\n",
    "extract_images_and_descriptions(pdf_path, image_dir)"
   ]
  },
  {
   "cell_type": "code",
   "execution_count": 41,
   "metadata": {},
   "outputs": [],
   "source": [
    "descriptions=[\"Comedonal acne with post-inflammatory hyperpigmentation\", \"Urticaria in a child\", \"Viral wart: earlobe\", \"Dermal naevus, skin type 5, macro 3\",\n",
    "              \"Onychomycosis showing pigmentaton of the plate and subungal hyperkeratosis\", \"Amelanotic melanoma\", \"Halo mole\", \"Discoid eczema in an infant\",\n",
    "              \"ice-pink scars over the cheeks\", \"blistering due to accidental spillage of hot cooking oil onto hand\", \"Comedonal acne\", \"Surrounding cellulitis\",\n",
    "              \"Urticaria in skin of color\", \"An in-situ melanoma on the ear lobe\", \"Cutaneous squamous cell carcinoma in skin of color\", \"Well-defined scaly plaque psoriasis on knee\", \n",
    "              \"Acanthosis nigricans on the neck\", \"Facial and lid angioedema due to food allergy\", \"Honey-colored crusted lesions in facial impetigo\", \"fine pale scaly lesions of pityriasis versicolor\",\n",
    "              \"infantile atopic dermatitis on hand\", \"early superficial plaques of psoriasis on back\", \"squamous cell carcinoma\", \"intraepidermal squamous cell carcinoma\", \"facial acne\", \"Keratoacanthoma face\",\n",
    "              \"melanonychia\", \"small patch vitiligo over trunk\", \"tinea corporis on leg\", \"vitiligo affecting upper and lower lids symmetrically\", \"subepidermal calcified nodule on the nose\", \"basal cell carcinoma on face\",\n",
    "              \"atopic hand dermatitis and follicular pattern on trunk\", \"two dark lesions on mid-upper back- both in situ melanomas\", \"atopic dermatitis\",\"tense and resolving blisters of bullous pemphigoid on upper thigh, skin of color\",\n",
    "              \"psoriasis of the scalp\", \"patchy eczema on the arm\", \"cyst\", \"vitiligo\", \"multiple lesions of calcinosis cutis on base of thumb\", \"left scapula\", \"clustered vesicles of herpes zoster infection in HIV\", \"A pigmented lesion on trunk with irregularity of colors; histology showed an in-situ melanoma\", \n",
    "              \"lichen planus in skin of color\", \"alopecia areata of the top of scalp\", \"conchal bowl discoid lupus erythematosus\", \"Superficial basal call carcinoma on leg\"]\n",
    "              \n",
    "              \n",
    "              \n",
    "              \n",
    "              \n",
    "              \n",
    "              \n",
    "              \n",
    "              \n",
    "              \n",
    "              \n",
    "              \n",
    "              \n",
    "              \n",
    "              \n",
    "              "
   ]
  },
  {
   "cell_type": "code",
   "execution_count": null,
   "metadata": {},
   "outputs": [],
   "source": []
  }
 ],
 "metadata": {
  "kernelspec": {
   "display_name": "venv",
   "language": "python",
   "name": "python3"
  },
  "language_info": {
   "codemirror_mode": {
    "name": "ipython",
    "version": 3
   },
   "file_extension": ".py",
   "mimetype": "text/x-python",
   "name": "python",
   "nbconvert_exporter": "python",
   "pygments_lexer": "ipython3",
   "version": "3.11.5"
  }
 },
 "nbformat": 4,
 "nbformat_minor": 2
}
